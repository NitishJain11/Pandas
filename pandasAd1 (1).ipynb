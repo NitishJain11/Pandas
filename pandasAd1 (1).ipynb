{
 "cells": [
  {
   "cell_type": "markdown",
   "id": "59182e86-532c-4764-921d-6faf673299d2",
   "metadata": {},
   "source": [
    "1. List any five functions of the pandas library with execution.\n",
    "\n",
    "Answer->\n",
    "\n",
    "(1->pandas.read_csv(): This function is used to read a CSV file into a pandas DataFrame.\n"
   ]
  },
  {
   "cell_type": "code",
   "execution_count": 2,
   "id": "1e5d1837-3f1c-4c49-8451-059fbf890e9b",
   "metadata": {},
   "outputs": [
    {
     "name": "stdout",
     "output_type": "stream",
     "text": [
      "             product   sales  year         cost\n",
      "0  Electronic_device   50000  2019       204803\n",
      "1     dairy_products  100000  2019     40204823\n",
      "2   medical_products   56000  2019    402048299\n",
      "3        frozen_food  100000  2019  40254823000\n",
      "4    genral_products   10000  2019    748374957\n"
     ]
    }
   ],
   "source": [
    "import pandas as pd\n",
    "df = pd.read_csv('salesDetail.csv')\n",
    "print(df)"
   ]
  },
  {
   "cell_type": "raw",
   "id": "aa028d0b-ea88-4c10-ad09-dc58f0ab87d4",
   "metadata": {},
   "source": [
    "(2-> pandas.DataFrame.head(): This function is used to return the first n rows of a DataFrame."
   ]
  },
  {
   "cell_type": "code",
   "execution_count": 3,
   "id": "642c6008-5aeb-4a4e-bcea-5ddd22dc6ffa",
   "metadata": {},
   "outputs": [
    {
     "name": "stdout",
     "output_type": "stream",
     "text": [
      "   total_bill   tip     sex smoker  day    time  size\n",
      "0       16.99  1.01  Female     No  Sun  Dinner     2\n",
      "1       10.34  1.66    Male     No  Sun  Dinner     3\n",
      "2       21.01  3.50    Male     No  Sun  Dinner     3\n",
      "3       23.68  3.31    Male     No  Sun  Dinner     2\n",
      "4       24.59  3.61  Female     No  Sun  Dinner     4\n"
     ]
    }
   ],
   "source": [
    "import seaborn as sb\n",
    "import pandas as pd\n",
    "\n",
    "df = sb.load_dataset('tips')\n",
    "print(df.head())\n"
   ]
  },
  {
   "cell_type": "raw",
   "id": "0aa1f47b-c21e-4c36-a344-d18c10a16400",
   "metadata": {},
   "source": [
    "(3-> pandas.DataFrame.drop(): This function is used to drop one or more columns or rows from a DataFrame.\n"
   ]
  },
  {
   "cell_type": "code",
   "execution_count": 37,
   "id": "2d2ad2fd-55eb-400a-9824-8b3d22417d93",
   "metadata": {},
   "outputs": [
    {
     "name": "stdout",
     "output_type": "stream",
     "text": [
      "   total_bill   tip     sex smoker  day    time  size\n",
      "0       16.99  1.01  Female     No  Sun  Dinner     2\n",
      "1       10.34  1.66    Male     No  Sun  Dinner     3\n",
      "2       21.01  3.50    Male     No  Sun  Dinner     3\n",
      "3       23.68  3.31    Male     No  Sun  Dinner     2\n",
      "4       24.59  3.61  Female     No  Sun  Dinner     4\n",
      "updated dataset\n",
      "   total_bill     sex smoker  day    time  size\n",
      "0       16.99  Female     No  Sun  Dinner     2\n",
      "1       10.34    Male     No  Sun  Dinner     3\n",
      "2       21.01    Male     No  Sun  Dinner     3\n",
      "3       23.68    Male     No  Sun  Dinner     2\n",
      "4       24.59  Female     No  Sun  Dinner     4\n"
     ]
    }
   ],
   "source": [
    "import seaborn as sb\n",
    "import pandas as pd\n",
    "import warnings\n",
    "warnings.filterwarnings(\"ignore\")\n",
    "\n",
    "df = sb.load_dataset('tips')\n",
    "print(df.head())\n",
    "df = df.drop('tip', axis=1)\n",
    "print(\"updated dataset\")\n",
    "print(df.head())\n"
   ]
  },
  {
   "cell_type": "raw",
   "id": "144b48f8-64fb-4259-a2bf-894f314abdc7",
   "metadata": {},
   "source": [
    "(4-pandas.DataFrame.groupby(): This function is used to group a DataFrame by one or more columns and apply an aggregation function"
   ]
  },
  {
   "cell_type": "code",
   "execution_count": 36,
   "id": "f2f8c9bf-7623-4cb2-8e74-d9cc04614c68",
   "metadata": {},
   "outputs": [
    {
     "name": "stdout",
     "output_type": "stream",
     "text": [
      "   total_bill   tip     sex smoker  day    time  size\n",
      "0       16.99  1.01  Female     No  Sun  Dinner     2\n",
      "1       10.34  1.66    Male     No  Sun  Dinner     3\n",
      "2       21.01  3.50    Male     No  Sun  Dinner     3\n",
      "3       23.68  3.31    Male     No  Sun  Dinner     2\n",
      "4       24.59  3.61  Female     No  Sun  Dinner     4\n",
      "               tip  size\n",
      "total_bill              \n",
      "3.07         1.000   1.0\n",
      "5.75         1.000   2.0\n",
      "7.25         3.075   1.5\n",
      "7.51         2.000   2.0\n",
      "7.56         1.440   2.0\n",
      "...            ...   ...\n",
      "45.35        3.500   3.0\n",
      "48.17        5.000   6.0\n",
      "48.27        6.730   4.0\n",
      "48.33        9.000   4.0\n",
      "50.81       10.000   3.0\n",
      "\n",
      "[229 rows x 2 columns]\n"
     ]
    },
    {
     "name": "stderr",
     "output_type": "stream",
     "text": [
      "/tmp/ipykernel_102/1209775253.py:5: FutureWarning: The default value of numeric_only in DataFrameGroupBy.mean is deprecated. In a future version, numeric_only will default to False. Either specify numeric_only or select only columns which should be valid for the function.\n",
      "  groupBY = df.groupby('total_bill').mean()\n"
     ]
    }
   ],
   "source": [
    "import pandas as pd \n",
    "import seaborn as snb\n",
    "df = snb.load_dataset('tips')\n",
    "print(df.head())\n",
    "groupBY = df.groupby('total_bill').mean()\n",
    "print(groupBY)"
   ]
  },
  {
   "cell_type": "raw",
   "id": "991f97c9-14bf-4a37-aec1-56ee6f4564ec",
   "metadata": {},
   "source": [
    "(5-> pandas.DataFrame.merge(): This function is used to merge two DataFrames based on a common column or index"
   ]
  },
  {
   "cell_type": "code",
   "execution_count": 12,
   "id": "5c47fbcc-a05d-4cba-9225-5348b75524e2",
   "metadata": {},
   "outputs": [
    {
     "name": "stdout",
     "output_type": "stream",
     "text": [
      "  key  value_x  value_y\n",
      "0   B        2        5\n",
      "1   D        4        6\n"
     ]
    }
   ],
   "source": [
    "import pandas as pd\n",
    "\n",
    "df1 = pd.DataFrame({'key': ['A', 'B', 'C', 'D'], 'value': [1, 2, 3, 4]})\n",
    "df2 = pd.DataFrame({'key': ['B', 'D', 'E', 'F'], 'value': [5, 6, 7, 8]})\n",
    "merged = pd.merge(df1, df2, on='key')\n",
    "print(merged)\n"
   ]
  },
  {
   "cell_type": "code",
   "execution_count": null,
   "id": "67fefb43-73e2-4af1-a754-8f75d7085058",
   "metadata": {},
   "outputs": [],
   "source": []
  },
  {
   "cell_type": "markdown",
   "id": "3ff8d532-f822-4572-a432-02f40f9c10c4",
   "metadata": {},
   "source": [
    "2. Given a Pandas DataFrame df with columns 'A', 'B', and 'C', write a Python function to re-index the\n",
    "DataFrame with a new index that starts from 1 and increments by 2 for each row.\n"
   ]
  },
  {
   "cell_type": "code",
   "execution_count": 20,
   "id": "fa4d8322-a64a-4533-ba7d-7508847778f5",
   "metadata": {},
   "outputs": [
    {
     "name": "stdout",
     "output_type": "stream",
     "text": [
      "   A  B   C\n",
      "1  1  5   9\n",
      "3  2  6  10\n",
      "5  3  7  11\n",
      "7  4  8  12\n"
     ]
    }
   ],
   "source": [
    "import pandas as pd \n",
    "\n",
    "def re_index(df):\n",
    "    NewIndex = pd.RangeIndex(start=1, stop=len(df)*2, step=2)\n",
    "    df=df.set_index(NewIndex)\n",
    "    return df \n",
    "\n",
    "df = pd.DataFrame({'A': [1, 2, 3, 4], 'B': [5, 6, 7, 8], 'C': [9, 10, 11, 12]})\n",
    "df = re_index(df)\n",
    "print(df)\n"
   ]
  },
  {
   "cell_type": "raw",
   "id": "01f76903-c4d4-44fd-92ad-18fd2d020357",
   "metadata": {},
   "source": []
  },
  {
   "cell_type": "markdown",
   "id": "4dbf8b8c-8ca8-4dbc-8c93-981c4152db71",
   "metadata": {},
   "source": [
    "Q3. You have a Pandas DataFrame df with a column named 'Values'. Write a Python function that\n",
    "iterates over the DataFrame and calculates the sum of the first three values in the 'Values' column. The\n",
    "function should print the sum to the console.\n",
    "\n",
    "For example, if the 'Values' column of df contains the values [10, 20, 30, 40, 50], your function should\n",
    "calculate and print the sum of the first three values, which is 60."
   ]
  },
  {
   "cell_type": "code",
   "execution_count": 24,
   "id": "1982bed5-da1d-4782-b91a-24e2ce3ba1fe",
   "metadata": {},
   "outputs": [
    {
     "name": "stdout",
     "output_type": "stream",
     "text": [
      "The sum of the first 3 values is 60\n"
     ]
    }
   ],
   "source": [
    "import pandas as pd\n",
    "\n",
    "def sumOFcolumn(df,numOFvalues,column):\n",
    "    total = df[column].head(numOFvalues).sum()\n",
    "    return f\"The sum of the first {numOFvalues} values is {total}\"\n",
    "\n",
    "\n",
    "df = pd.DataFrame({'Values': [10, 20, 30, 40, 50]})\n",
    "\n",
    "\n",
    "print(sumOFcolumn(df,3,'Values'))"
   ]
  },
  {
   "cell_type": "raw",
   "id": "6b639f4b-594a-4ac2-860e-d2dfe9027f54",
   "metadata": {},
   "source": [
    "\n"
   ]
  },
  {
   "cell_type": "markdown",
   "id": "2c68f1d7-1ee7-4cb3-b387-7e2ce1df7f7b",
   "metadata": {},
   "source": [
    "Q4. Given a Pandas DataFrame df with a column 'Text', write a Python function to create a new column\n",
    "'Word_Count' that contains the number of words in each row of the 'Text' column.\n"
   ]
  },
  {
   "cell_type": "code",
   "execution_count": 30,
   "id": "d7f0b539-8981-44b3-868f-0b78c20e4e60",
   "metadata": {},
   "outputs": [
    {
     "name": "stdout",
     "output_type": "stream",
     "text": [
      "                            Text  Word_Count\n",
      "0             It has four words.           4\n",
      "1  This row has six words in it.           7\n"
     ]
    }
   ],
   "source": [
    "import pandas as pd \n",
    "def count_word(df , column ):\n",
    "    df['Word_Count'] = df[column].str.split().apply(len)\n",
    "    return df\n",
    "df = pd.DataFrame({'Text': ['It has four words.', 'This row has six words in it.']})\n",
    "print(count_word(df,'Text'))"
   ]
  },
  {
   "cell_type": "raw",
   "id": "f92579fd-48bb-4ffd-bd57-956e67e5b8a7",
   "metadata": {},
   "source": []
  },
  {
   "cell_type": "markdown",
   "id": "bb8c2560-3ec5-4a33-8645-9c9fa18cd4dc",
   "metadata": {},
   "source": [
    "Q5. How are DataFrame.size() and DataFrame.shape() different?\n",
    "\n",
    "Answer->"
   ]
  },
  {
   "cell_type": "markdown",
   "id": "1b584380-1378-4412-a1be-c981ae986b2c",
   "metadata": {},
   "source": [
    "Both DataFrame.size and DataFrame.shape are attributes of a pandas DataFrame that provide information about the size of the DataFrame, but they represent different things:\n",
    "\n",
    "DataFrame.size: This attribute returns the total number of elements in the DataFrame, i.e., the product of the number of rows and columns in the DataFrame. It returns an integer value.\n",
    "\n",
    "DataFrame.shape: This attribute returns a tuple containing the number of rows and columns in the DataFrame, respectively. It returns a tuple of integer values.\n",
    "\n",
    "Example->"
   ]
  },
  {
   "cell_type": "code",
   "execution_count": 32,
   "id": "996bebba-6ae0-425e-a63c-62497a99fe76",
   "metadata": {},
   "outputs": [
    {
     "name": "stdout",
     "output_type": "stream",
     "text": [
      "for size function 12\n",
      "for shape function (4, 3)\n"
     ]
    }
   ],
   "source": [
    "import pandas as pd\n",
    "\n",
    "df = pd.DataFrame({'A': [1, 2, 3, 4], 'B': [5, 6, 7, 8], 'C': [9, 10, 11, 12]})\n",
    "\n",
    "print(\"for size function\", df.size) # size = rows * column = 4 *3 = 12\n",
    "print(\"for shape function\" , df.shape)"
   ]
  },
  {
   "cell_type": "raw",
   "id": "4a8e3277-7935-49de-81e9-941eae27e36c",
   "metadata": {},
   "source": []
  },
  {
   "cell_type": "markdown",
   "id": "9c68ba85-7021-4db6-823e-bd6787f5a1ab",
   "metadata": {},
   "source": [
    "Q6. Which function of pandas do we use to read an excel file?\n"
   ]
  },
  {
   "cell_type": "code",
   "execution_count": 34,
   "id": "2b7333c0-1d3b-407e-9ffc-598904a3fcf1",
   "metadata": {},
   "outputs": [],
   "source": [
    "import pandas as pd \n",
    "file = pd.read_excel('example.xlsx') #read the Excel file into a Pandas dataframe\n",
    "print(file)\n"
   ]
  },
  {
   "cell_type": "raw",
   "id": "b4cf15f7-cc40-4756-93c4-2d196d67a32e",
   "metadata": {},
   "source": []
  },
  {
   "cell_type": "markdown",
   "id": "497afb4e-0af3-41d7-bbfd-0b0d038d529f",
   "metadata": {},
   "source": [
    "Q7. You have a Pandas DataFrame df that contains a column named 'Email' that contains email\n",
    "addresses in the format 'username@domain.com'. Write a Python function that creates a new column\n",
    "'Username' in df that contains only the username part of each email address.\n",
    "\n",
    "The username is the part of the email address that appears before the '@' symbol. For example, if the\n",
    "email address is 'john.doe@example.com', the 'Username' column should contain 'john.doe'. Your\n",
    "function should extract the username from each email address and store it in the new 'Username'\n",
    "column.\n",
    "\n"
   ]
  },
  {
   "cell_type": "code",
   "execution_count": 1,
   "id": "4f85ff89-4193-4acb-9cd6-ad4ead1a33e9",
   "metadata": {},
   "outputs": [
    {
     "name": "stdout",
     "output_type": "stream",
     "text": [
      "                   Email   Username\n",
      "0   john.doe@example.com   john.doe\n",
      "1  marks.doe@example.com  marks.doe\n",
      "2  james.gun@example.com  james.gun\n"
     ]
    }
   ],
   "source": [
    "import pandas as pd\n",
    "\n",
    "df = pd.DataFrame({'Email': ['john.doe@example.com', 'marks.doe@example.com', 'james.gun@example.com']})\n",
    "\n",
    "\n",
    "def extract_username(email):\n",
    "    return email.split('@')[0]\n",
    "\n",
    "df['Username'] = df['Email'].apply(extract_username)\n",
    "\n",
    "\n",
    "print(df)"
   ]
  },
  {
   "cell_type": "raw",
   "id": "d87047a9-34d8-4c13-b111-92df5c53add9",
   "metadata": {},
   "source": []
  },
  {
   "cell_type": "markdown",
   "id": "359af7c9-6f7f-477c-8d5b-f1fd3d49635a",
   "metadata": {},
   "source": [
    "\n",
    " Q8. You have a Pandas DataFrame df with columns 'A', 'B', and 'C'. Write a Python function that selects\n",
    " all rows where the value in column 'A' is greater than 5 and the value in column 'B' is less than 10. The\n",
    " function should return a new DataFrame that contains only the selected rows.\n",
    "\n"
   ]
  },
  {
   "cell_type": "code",
   "execution_count": 2,
   "id": "f751294c-17cd-4ae8-a242-cb04ca1e43f4",
   "metadata": {},
   "outputs": [
    {
     "name": "stdout",
     "output_type": "stream",
     "text": [
      "   A  B  C\n",
      "1  8  2  7\n",
      "2  6  9  4\n",
      "4  9  1  2\n"
     ]
    }
   ],
   "source": [
    "import pandas as pd\n",
    "\n",
    "df = pd.DataFrame({'A':[3,8,6,2,9],'B':[5,2,9,3,1],'C':[1,7,4,5,2]})\n",
    "def selects_rows(df,i,j):\n",
    "    df1 = df[(df[i] > 5) & (df[j] < 10)]\n",
    "    return df1\n",
    "print(selects_rows(df,'A','B'))"
   ]
  },
  {
   "cell_type": "raw",
   "id": "ed302419-784f-40b7-9731-5d276aa4db9f",
   "metadata": {},
   "source": []
  },
  {
   "cell_type": "markdown",
   "id": "78ffca24-be04-4520-8289-b3a97d28ea7c",
   "metadata": {},
   "source": [
    "Q9. Given a Pandas DataFrame df with a column 'Values', write a Python function to calculate the mean,\n",
    "median, and standard deviation of the values in the 'Values' column."
   ]
  },
  {
   "cell_type": "code",
   "execution_count": 10,
   "id": "bcc1c8dd-7698-47ec-b1a1-219383ea7299",
   "metadata": {},
   "outputs": [
    {
     "name": "stdout",
     "output_type": "stream",
     "text": [
      "                            0\n",
      "mean                30.000000\n",
      "median              30.000000\n",
      "standard Deviation  14.142136\n"
     ]
    }
   ],
   "source": [
    "import pandas as pd \n",
    "import numpy as np\n",
    "def function(df ,values):\n",
    "    meanValues = np.mean(df[values])\n",
    "    standerDeviation  = np.std(df[values])\n",
    "    median = np.median(df[values])\n",
    "    return pd.DataFrame({'mean':meanValues,'median':[median],'standard Deviation' : standerDeviation }).T\n",
    "df = pd.DataFrame({'Values': [10, 20, 30, 40, 50]})\n",
    "print(function(df,'Values'))\n",
    "\n",
    "# THIS CODE USES NUMPY METHODES"
   ]
  },
  {
   "cell_type": "markdown",
   "id": "864aa686-de8d-4b5d-9491-5dae2a9626f2",
   "metadata": {},
   "source": [
    "SAME CODE CAN BE WRIRE IN THIS WAY\n"
   ]
  },
  {
   "cell_type": "code",
   "execution_count": 9,
   "id": "92fe6a94-e043-4131-a14c-5f2f01996cdd",
   "metadata": {},
   "outputs": [
    {
     "name": "stdout",
     "output_type": "stream",
     "text": [
      "mean : 30.0 \n",
      "median :30.0\n",
      "standard deviation : 15.811388300841896\n"
     ]
    }
   ],
   "source": [
    "import pandas as pd\n",
    "\n",
    "def function(df):\n",
    "    mean = df['Values'].mean()\n",
    "    median = df['Values'].median()\n",
    "    std = df['Values'].std()\n",
    "    \n",
    "    return f\"mean : {mean} \\nmedian :{median}\\nstandard deviation : {std}\"\n",
    "df =pd.DataFrame({'Values': [10, 20, 30, 40, 50]})\n",
    "print(function(df))\n",
    "\n",
    "# THIS CODE USES ONLY PANDAS' S METHODE\n"
   ]
  },
  {
   "cell_type": "raw",
   "id": "67671e3c-4ad8-48a4-8dc4-fd653f3124d5",
   "metadata": {},
   "source": []
  },
  {
   "cell_type": "markdown",
   "id": "9873c9da-9620-4bd5-b65a-8f2eebfc9765",
   "metadata": {},
   "source": [
    "Q10. Given a Pandas DataFrame df with a column 'Sales' and a column 'Date', write a Python function to\n",
    "create a new column 'MovingAverage' that contains the moving average of the sales for the past 7 days\n",
    "for each row in the DataFrame. The moving average should be calculated using a window of size 7 and\n",
    "should include the current day.\n"
   ]
  },
  {
   "cell_type": "code",
   "execution_count": 20,
   "id": "71ad8820-1f3d-4355-af3a-4573e2334a4c",
   "metadata": {},
   "outputs": [
    {
     "name": "stdout",
     "output_type": "stream",
     "text": [
      "     Product  sales  Revenue       Date\n",
      "0  Product A      8      800 2023-04-01\n",
      "1  Product B     10     1000 2023-04-02\n",
      "2  Product B      5      500 2023-04-03\n",
      "3  Product B      3      300 2023-04-04\n",
      "4  Product B      9      900 2023-04-05\n"
     ]
    }
   ],
   "source": [
    "import pandas as pd\n",
    "products = ['Product A', 'Product B', 'Product C', 'Product D', 'Product E']\n",
    "sales = [['Product A', 8], ['Product B', 10], ['Product B', 5], ['Product B', 3], ['Product B', 9], ['Product C', 7], ['Product A', 5], ['Product B', 2], ['Product A', 7], ['Product C', 6], ['Product E', 3], ['Product E', 7], ['Product A', 10], ['Product D', 7], ['Product E', 9], ['Product D', 3], ['Product E', 10], ['Product D', 9], ['Product D', 10], ['Product B', 2], ['Product C', 4], ['Product A', 2], ['Product A', 1], ['Product E', 6], ['Product B', 7], ['Product D', 4], ['Product D', 1], ['Product C', 10], ['Product C', 3], ['Product E', 9], ['Product E', 4], ['Product B', 9], ['Product D', 4], ['Product B', 4], ['Product C', 7], ['Product D', 8], ['Product A', 8], ['Product E', 8], ['Product D', 2], ['Product E', 6], ['Product B', 3], ['Product D', 10], ['Product D', 2], ['Product D', 9], ['Product E', 8], ['Product C', 1], ['Product B', 10], ['Product E', 7], ['Product B', 6], ['Product E', 4]]\n",
    "df_sales = pd.DataFrame(sales, columns=['Product', 'sales'])\n",
    "df_sales['Revenue'] = df_sales['sales'] * 100\n",
    "df_sales['Date'] = pd.date_range(start='2023-04-01', periods=len(df_sales))\n",
    "\n",
    "print(df_sales.head())\n"
   ]
  },
  {
   "cell_type": "code",
   "execution_count": 21,
   "id": "717f66d2-1a9e-41be-bf3a-ec294f093fca",
   "metadata": {},
   "outputs": [
    {
     "name": "stdout",
     "output_type": "stream",
     "text": [
      "     Product  sales  Revenue       Date  MovingAvg\n",
      "0  Product A      8      800 2023-04-01   8.000000\n",
      "1  Product B     10     1000 2023-04-02   9.000000\n",
      "2  Product B      5      500 2023-04-03   7.666667\n",
      "3  Product B      3      300 2023-04-04   6.500000\n",
      "4  Product B      9      900 2023-04-05   7.000000\n"
     ]
    }
   ],
   "source": [
    "def MovingAvg(df,WindowsSize,column):\n",
    "    df['MovingAvg'] = df_sales[column].rolling(window=WindowsSize,min_periods=1).mean()\n",
    "    return df\n",
    "MovingAvg(df_sales,7,'sales')\n",
    "print(df_sales.head())"
   ]
  },
  {
   "cell_type": "raw",
   "id": "4c08c73f-7960-42d2-9c79-6598d3d1d920",
   "metadata": {},
   "source": []
  },
  {
   "cell_type": "markdown",
   "id": "84a93f9b-efef-434a-8c08-89ffbc1fdac4",
   "metadata": {},
   "source": [
    "Q11. You have a Pandas DataFrame df with a column 'Date'. Write a Python function that creates a new\n",
    "column 'Weekday' in the DataFrame. The 'Weekday' column should contain the weekday name (e.g.\n",
    "Monday, Tuesday) corresponding to each date in the 'Date' column.\n",
    "\n",
    "For example, if df contains the following values:\n",
    "\n",
    "Date\n",
    "\n",
    "0 2023-01-01\n",
    "\n",
    "1 2023-01-02\n",
    "\n",
    "2 2023-01-03\n",
    "\n",
    "3 2023-01-04\n",
    "\n",
    "4 2023-01-05\n",
    "\n",
    "Your function should create the following DataFrame:\n",
    "\n"
   ]
  },
  {
   "cell_type": "code",
   "execution_count": 23,
   "id": "8b115965-eb3f-4395-805d-e14e1ef5ae62",
   "metadata": {},
   "outputs": [
    {
     "name": "stdout",
     "output_type": "stream",
     "text": [
      "         Date    Weekday\n",
      "0  2023-01-01     Sunday\n",
      "1  2023-01-02     Monday\n",
      "2  2023-01-03    Tuesday\n",
      "3  2023-01-04  Wednesday\n",
      "4  2023-01-05   Thursday\n"
     ]
    }
   ],
   "source": [
    "import pandas as pd\n",
    "\n",
    "def weekday_column(df,column):\n",
    "    df['Weekday'] = pd.to_datetime(df[column]).dt.day_name()\n",
    "    return df\n",
    "\n",
    "df = pd.DataFrame({'Date': ['2023-01-01', '2023-01-02', '2023-01-03', '2023-01-04', '2023-01-05']})\n",
    "df = weekday_column(df,'Date')\n",
    "print(df)"
   ]
  },
  {
   "cell_type": "raw",
   "id": "b74cdb72-0cff-4c9d-9e18-a53939ff3e07",
   "metadata": {},
   "source": []
  },
  {
   "cell_type": "markdown",
   "id": "7951f391-743a-4c30-98f5-0eb3dfc13350",
   "metadata": {},
   "source": [
    "Q12. Given a Pandas DataFrame df with a column 'Date' that contains timestamps, write a Python\n",
    "function to select all rows where the date is between '2023-01-01' and '2023-01-31'.\n"
   ]
  },
  {
   "cell_type": "code",
   "execution_count": 30,
   "id": "1a01adeb-2375-4fbb-b607-fddd4a1dfc5e",
   "metadata": {},
   "outputs": [
    {
     "name": "stdout",
     "output_type": "stream",
     "text": [
      "THIS IS DATASET\n",
      "         Date  Sales\n",
      "0 2022-12-30      0\n",
      "1 2022-12-31      1\n",
      "2 2023-01-01      2\n",
      "3 2023-01-02      3\n",
      "4 2023-01-03      4\n",
      "THESE ARE SELECTED ROWS\n",
      "          Date  Sales\n",
      "2  2023-01-01      2\n",
      "3  2023-01-02      3\n",
      "4  2023-01-03      4\n",
      "5  2023-01-04      5\n",
      "6  2023-01-05      6\n",
      "7  2023-01-06      7\n",
      "8  2023-01-07      8\n",
      "9  2023-01-08      9\n",
      "10 2023-01-09     10\n",
      "11 2023-01-10     11\n",
      "12 2023-01-11     12\n",
      "13 2023-01-12     13\n",
      "14 2023-01-13     14\n",
      "15 2023-01-14     15\n",
      "16 2023-01-15     16\n",
      "17 2023-01-16     17\n",
      "18 2023-01-17     18\n",
      "19 2023-01-18     19\n",
      "20 2023-01-19     20\n",
      "21 2023-01-20     21\n",
      "22 2023-01-21     22\n",
      "23 2023-01-22     23\n",
      "24 2023-01-23     24\n",
      "25 2023-01-24     25\n",
      "26 2023-01-25     26\n",
      "27 2023-01-26     27\n",
      "28 2023-01-27     28\n",
      "29 2023-01-28     29\n",
      "30 2023-01-29     30\n",
      "31 2023-01-30     31\n",
      "32 2023-01-31     32\n"
     ]
    }
   ],
   "source": [
    "import pandas as pd\n",
    "\n",
    "def selectRow(df,start,end):\n",
    "    start_date = pd.to_datetime(start)\n",
    "    end_date = pd.to_datetime(end)\n",
    "    \n",
    "    selected_rows =  df.loc[(df['Date'] >= start_date) & (df['Date'] <= end_date)]\n",
    "    \n",
    "    return selected_rows\n",
    "\n",
    "df = pd.DataFrame({'Date': pd.date_range('2022-12-30', periods=60), 'Sales': range(60)})\n",
    "print(f\"THIS IS DATASET\\n\",df.head())\n",
    "print(f\"THESE ARE SELECTED ROWS\\n\",selectRow(df,'2023-01-01','2023-01-31'))\n"
   ]
  },
  {
   "cell_type": "raw",
   "id": "4293f13d-33a5-47fe-8dcd-5e1c60420060",
   "metadata": {},
   "source": []
  },
  {
   "cell_type": "markdown",
   "id": "f0f3af81-6e82-4a84-a175-2931dea46770",
   "metadata": {},
   "source": [
    "Q13. To use the basic functions of pandas, what is the first and foremost necessary library that needs to\n",
    "be imported?"
   ]
  },
  {
   "cell_type": "markdown",
   "id": "c119af52-b6d2-4147-8e15-cec4eee6ee67",
   "metadata": {},
   "source": [
    "Answer->\n",
    "\n",
    "The first and foremost library that needs to be imported to use the basic functions of pandas is pandas itself. The pandas library is a popular open-source data manipulation and analysis library that provides a wide range of tools and functions for working with structured data such as tabular data, time-series data, and more."
   ]
  },
  {
   "cell_type": "code",
   "execution_count": 31,
   "id": "02f56bbe-7d3e-444c-a4ee-fbe3176f425f",
   "metadata": {},
   "outputs": [],
   "source": [
    "import pandas as pd\n"
   ]
  },
  {
   "cell_type": "code",
   "execution_count": null,
   "id": "37789090-f57a-403c-a853-32cf8e3c6426",
   "metadata": {},
   "outputs": [],
   "source": []
  }
 ],
 "metadata": {
  "kernelspec": {
   "display_name": "Python 3 (ipykernel)",
   "language": "python",
   "name": "python3"
  },
  "language_info": {
   "codemirror_mode": {
    "name": "ipython",
    "version": 3
   },
   "file_extension": ".py",
   "mimetype": "text/x-python",
   "name": "python",
   "nbconvert_exporter": "python",
   "pygments_lexer": "ipython3",
   "version": "3.10.8"
  }
 },
 "nbformat": 4,
 "nbformat_minor": 5
}
