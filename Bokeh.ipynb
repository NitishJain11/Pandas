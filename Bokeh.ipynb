{
 "cells": [
  {
   "cell_type": "markdown",
   "id": "3669b8b3-ced7-4c49-bf07-5186212e7989",
   "metadata": {},
   "source": [
    "Q1. How can you create a Bokeh plot using Python code?"
   ]
  },
  {
   "cell_type": "markdown",
   "id": "cf0d1ba0-5d8c-45c0-a87b-fa52fa28ecb4",
   "metadata": {},
   "source": [
    "Bokeh is a popular Python library for creating interactive visualizations for the web. \n",
    "\n",
    "Import the necessary modules:->\n",
    "\n",
    "from bokeh.plotting import figure, output_file, show\n",
    "\n",
    "Create your plot by defining your data and adding glyphs (shapes) to the plot using the figure function. For example, to create a scatter plot with x and y coordinates.\n",
    "\n",
    "\n",
    "Finally, you can output your plot as an HTML file or show it in your browser using the output_file and show functions:"
   ]
  },
  {
   "cell_type": "code",
   "execution_count": null,
   "id": "5cbaefaa-a8f4-4fc0-8321-1a8d099658ef",
   "metadata": {},
   "outputs": [],
   "source": [
    "from bokeh.plotting import figure, output_file, show\n",
    "p = figure(title='My Scatter Plot')\n",
    "p.scatter(x=[1, 2, 3, 4, 5], y=[2, 5, 3, 1, 4])\n",
    "output_file('scatter_plot.html')\n",
    "show(p)"
   ]
  },
  {
   "cell_type": "markdown",
   "id": "02254691-ecb5-456e-8ee8-d62f0b3a0afb",
   "metadata": {},
   "source": [
    "Q2. What are glyphs in Bokeh, and how can you add them to a Bokeh plot? Explain with an example.\n"
   ]
  },
  {
   "cell_type": "markdown",
   "id": "406368be-0dbe-4165-a177-f9d811b22999",
   "metadata": {},
   "source": [
    "Answer->\n",
    "\n",
    "In Bokeh, glyphs are visual shapes or markers that can be added to a plot to represent data points. Bokeh provides a wide variety of glyphs that can be used for different purposes, such as circles, squares, triangles, lines, and more.\n",
    "\n",
    "To add glyphs to a Bokeh plot, you first need to create a figure object and specify the data source for your plot. Then, you can use a glyph method to add the desired glyph to your plot, passing the x and y coordinates and any other properties as arguments."
   ]
  },
  {
   "cell_type": "code",
   "execution_count": 3,
   "id": "cd1b355e-2f45-4c4d-a9d4-a9c6a2f9f4aa",
   "metadata": {},
   "outputs": [],
   "source": [
    "from bokeh.plotting import figure, show\n",
    "\n",
    "p = figure(x_range=(0, 10), y_range=(0, 10))\n",
    "\n",
    "x = [1, 2, 3, 4, 5]\n",
    "y = [2, 5, 3, 1, 4]\n",
    "\n",
    "p.circle(x, y, size=10, color='navy', alpha=0.5)\n",
    "output_file('Q2_scatter_plot.html')\n",
    "show(p)\n",
    "\n"
   ]
  },
  {
   "cell_type": "markdown",
   "id": "87d37221-6539-4180-ae0a-76ea59896969",
   "metadata": {},
   "source": [
    "Q3. How can you customize the appearance of a Bokeh plot, including the axes, title, and legend?\n"
   ]
  },
  {
   "cell_type": "code",
   "execution_count": 15,
   "id": "4f6458f2-47eb-42c2-8254-adecf9539b76",
   "metadata": {},
   "outputs": [],
   "source": [
    "from bokeh.plotting import figure, show\n",
    "import warnings\n",
    "\n",
    "# Ignore all warnings\n",
    "warnings.filterwarnings(\"ignore\")\n",
    "\n",
    "\n",
    "\n",
    "p = figure(x_range=(0, 10), y_range=(0, 10))\n",
    "\n",
    "x = [1, 2, 3, 4, 5]\n",
    "y = [2, 5, 3, 1, 4]\n",
    "\n",
    "#Axis customization\n",
    "\n",
    "p.xaxis.axis_label = \"X Label\"  # set the label for the x-axis\n",
    "p.yaxis.axis_label = \"Y Label\"  # set the label for the y-axis\n",
    "\n",
    "p.xaxis.major_label_orientation = \"vertical\"  # rotate the x-axis labels\n",
    "p.yaxis.major_label_orientation = \"horizontal\"  # rotate the y-axis labels\n",
    "\n",
    "p.xaxis.axis_line_width = 2  # set the width of the x-axis line\n",
    "p.yaxis.axis_line_width = 2  # set the width of the y-axis line\n",
    "\n",
    "p.xaxis.axis_label_text_font_size = \"12pt\"  # set the font size of the x-axis label\n",
    "p.yaxis.axis_label_text_font_size = \"12pt\"  # set the font size of the y-axis label\n",
    "\n",
    "p.xaxis.major_tick_line_color = \"red\"  # set the color of the major x-axis tick marks\n",
    "p.yaxis.major_tick_line_color = \"red\"  # set the color of the major y-axis tick marks\n",
    "\n",
    "p.xaxis.minor_tick_line_color = \"blue\"  # set the color of the minor x-axis tick marks\n",
    "p.yaxis.minor_tick_line_color = \"blue\"  # set the color of the minor y-axis tick marks\n",
    "\n",
    "p.xaxis.major_tick_out = 10  # set the length of the major x-axis tick marks\n",
    "p.yaxis.major_tick_out = 10  # set the length of the major y-axis tick marks\n",
    "\n",
    "p.xaxis.major_tick_in = 0  # set the length of the major x-axis tick marks inside the plot\n",
    "p.yaxis.major_tick_in = 0  # set the length of the major y-axis tick marks inside the plot\n",
    "\n",
    "\n",
    "#Title customization\n",
    "\n",
    "p.title.text = \"Figure Data\"  # set the title of the plot\n",
    "p.title.align = \"center\"  # align the title to the center of the plot\n",
    "p.title.text_color = \"gray\"  # set the color of the title\n",
    "p.title.text_font_size = \"20pt\" \n",
    "\n",
    "\n",
    "#Legend customization\n",
    "\n",
    "p.legend.title = \"My Legend Title\"  # set the title of the legend\n",
    "p.legend.title_text_font_size = \"12pt\"  # set the font size of the legend title\n",
    "p.legend.label_text_font_size = \"10pt\"  # set the font size of the legend labels\n",
    "p.legend.location = \"top_left\"  # set the location of the legend\n",
    "p.legend.orientation = \"horizontal\"  # set the orientation of the legend\n",
    "p.legend.background_fill_alpha = 0.5  # set the opacity of the legend background\n",
    "p.legend.label_text_color = \"navy\"  # set the color of the legend labels\n",
    "\n",
    "\n",
    "p.circle(x, y, size=10, color='navy', alpha=0.5)\n",
    "output_file('custom_plot.html')\n",
    "show(p)\n"
   ]
  },
  {
   "cell_type": "markdown",
   "id": "9c3c0e09-0599-4e14-8a5d-b6ea1a436be9",
   "metadata": {},
   "source": [
    "The title customization and legend customization in Bokeh are two different ways of customizing the appearance of different parts of a plot.\n",
    "\n",
    "The title customization refers to the customization of the plot's main title, which appears at the top of the plot and provides a brief summary or description of the plot's content. The title of the plot is usually used to convey information about what the plot represents or what the data is showing.\n",
    "\n",
    "On the other hand, legend customization refers to the customization of the legend, which is used to provide a visual key to the meaning of the different colors or shapes in the plot. The legend typically appears on the side of the plot, and it contains labels or captions that explain what the different glyphs in the plot represent.\n",
    "\n",
    "The main difference between title customization and legend customization is that the former is concerned with the overall description or summary of the plot's content, while the latter is concerned with providing a visual key to the meaning of the glyphs or markers used in the plot."
   ]
  },
  {
   "cell_type": "markdown",
   "id": "9f0fdfa9-bf41-445d-b46a-25259790b1ae",
   "metadata": {},
   "source": [
    "Q4. What is a Bokeh server, and how can you use it to create interactive plots that can be updated in\n",
    "real time?\n"
   ]
  },
  {
   "cell_type": "markdown",
   "id": "d38f7ca7-fae8-4d9b-bece-0b5952d54e80",
   "metadata": {},
   "source": [
    "Bokeh server is a Python package that allows you to create and deploy interactive data visualization web applications. With Bokeh server, you can build web applications that contain interactive plots, tables, and other data visualizations that can be updated in real time based on user input or streaming data sources.\n",
    "\n",
    "To use Bokeh server, you define a Python function that creates the Bokeh plot or visualization that you want to display in the web application. This function is then wrapped in a Bokeh application object, which is a Python object that represents the web application and contains the necessary code to run the Bokeh server.\n",
    "\n",
    "You can then start the Bokeh server, and it will run your Bokeh application, making it accessible through a web browser. Users can interact with the visualization by clicking on the plot or using widgets that you define, such as sliders or dropdown menus. When a user interacts with the visualization, Bokeh server sends events to the Python backend, which can then update the visualization in real time.\n",
    "\n",
    "Bokeh server supports many different types of data sources, including static data files, real-time streaming data sources, and data stored in databases or data warehouses. This makes it a powerful tool for building data visualization applications that can display and update large datasets in real time.\n",
    "\n",
    "Overall, Bokeh server is a powerful and flexible tool for creating interactive data visualization applications that can be deployed in a web browser. Whether you are building a simple dashboard or a complex data exploration tool, Bokeh server can help you create engaging and informative visualizations "
   ]
  },
  {
   "cell_type": "markdown",
   "id": "9f0b5c76-96e0-4bc9-9e50-47713ec97a4e",
   "metadata": {},
   "source": [
    "Q5. How can you embed a Bokeh plot into a web page or dashboard using Flask or Django?"
   ]
  },
  {
   "cell_type": "markdown",
   "id": "1da113ae-5787-4c09-b39a-8c823c7969ae",
   "metadata": {},
   "source": [
    "Answer->\n",
    "Bokeh provides a way to embed plots into Flask or Django web applications using the components function. The components function returns the JavaScript and HTML code necessary to render a Bokeh plot.\n",
    "\n"
   ]
  },
  {
   "cell_type": "code",
   "execution_count": null,
   "id": "013659d7-977f-4812-9875-9083621cd839",
   "metadata": {},
   "outputs": [],
   "source": [
    "from flask import Flask, render_template\n",
    "from bokeh.plotting import figure\n",
    "from bokeh.embed import components\n",
    "\n",
    "app = Flask(__name__)\n",
    "\n",
    "@app.route('/')\n",
    "def index():\n",
    "    # Create the plot\n",
    "    plot = figure(plot_width=400, plot_height=400)\n",
    "    plot.circle([1, 2, 3], [4, 5, 6])\n",
    "    js, div = components(plot)\n",
    "    return render_template('index.html', js=js, div=div)\n",
    "\n",
    "if __name__ == '__main__':\n",
    "    app.run(host=\"0.0.0.0\",debug=True)\n"
   ]
  },
  {
   "cell_type": "code",
   "execution_count": null,
   "id": "cc77c8ad-a954-42cf-ac7e-c7c42a2ff208",
   "metadata": {},
   "outputs": [],
   "source": [
    "<!DOCTYPE html>\n",
    "<html>\n",
    "<head>\n",
    "    <title>Bokeh Plot</title>\n",
    "    <link href=\"https://cdn.bokeh.org/bokeh/release/bokeh-2.4.0.min.css\" rel=\"stylesheet\" type=\"text/css\">\n",
    "    <script src=\"https://cdn.bokeh.org/bokeh/release/bokeh-2.4.0.min.js\"></script>\n",
    "</head>\n",
    "<body>\n",
    "    {{ div|safe }}\n",
    "    {{ js|safe }}\n",
    "</body>\n",
    "</html>\n"
   ]
  }
 ],
 "metadata": {
  "kernelspec": {
   "display_name": "Python 3 (ipykernel)",
   "language": "python",
   "name": "python3"
  },
  "language_info": {
   "codemirror_mode": {
    "name": "ipython",
    "version": 3
   },
   "file_extension": ".py",
   "mimetype": "text/x-python",
   "name": "python",
   "nbconvert_exporter": "python",
   "pygments_lexer": "ipython3",
   "version": "3.10.8"
  }
 },
 "nbformat": 4,
 "nbformat_minor": 5
}
