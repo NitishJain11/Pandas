{
 "cells": [
  {
   "cell_type": "code",
   "execution_count": 2,
   "id": "668de04b-bb92-4b42-b57c-b61add3a687a",
   "metadata": {},
   "outputs": [
    {
     "name": "stdout",
     "output_type": "stream",
     "text": [
      "['1' '2' '3' '4' '5']\n"
     ]
    }
   ],
   "source": [
    "import numpy as np\n",
    "\n",
    "list_ = ['1','2','3','4','5']\n",
    "\n",
    "array_list = np.array(object = list_)\n",
    "print(array_list)"
   ]
  },
  {
   "cell_type": "raw",
   "id": "62d635f2-e6dc-4923-9e56-52eeb7c366bc",
   "metadata": {},
   "source": [
    "Q1. Is there any difference in the data type of variables list_ and array_list? If there is then write a code\n",
    "to print the data types of both the variables.\n"
   ]
  },
  {
   "cell_type": "markdown",
   "id": "4a99acbe-78a8-4be1-b783-e4235d885955",
   "metadata": {},
   "source": [
    "Answer->\n",
    "\n",
    "In Python, the term \"array\" usually refers to a NumPy array, which is a specific type of data structure used for numerical operations. On the other hand, a \"list\" is a built-in Python data type that can hold elements of any type.\n",
    "\n",
    "To check the data types of variables list_ and array_list, we can use the type() function in Python"
   ]
  },
  {
   "cell_type": "code",
   "execution_count": 7,
   "id": "365d88cc-2beb-4dd8-a623-964b199bc0ae",
   "metadata": {},
   "outputs": [
    {
     "name": "stdout",
     "output_type": "stream",
     "text": [
      "<class 'numpy.ndarray'> <class 'list'>\n"
     ]
    }
   ],
   "source": [
    "import numpy as np\n",
    "\n",
    "list_ = ['1','2','3','4','5'] #class 'list'\n",
    "\n",
    "array_list = np.array(object = list_) #'numpy.ndarray'\n",
    "print(type(array_list),type(list_))\n"
   ]
  },
  {
   "cell_type": "raw",
   "id": "4f756582-9771-4140-bc98-a36a367b2ab9",
   "metadata": {},
   "source": [
    "Q2. Write a code to print the data type of each and every element of both the variables list_ and\n",
    "arra_list.\n"
   ]
  },
  {
   "cell_type": "markdown",
   "id": "6d67e6bc-054d-4dd2-90c9-c0ed886638de",
   "metadata": {},
   "source": [
    "Answer->\n",
    "\n"
   ]
  },
  {
   "cell_type": "code",
   "execution_count": 12,
   "id": "6734fc04-a081-4625-a515-c6359921f4ea",
   "metadata": {},
   "outputs": [
    {
     "name": "stdout",
     "output_type": "stream",
     "text": [
      " fro list_ \n",
      "<class 'str'>\n",
      "<class 'str'>\n",
      "<class 'str'>\n",
      "<class 'str'>\n",
      "<class 'str'>\n",
      " fro array_list \n",
      "<class 'numpy.str_'>\n",
      "<class 'numpy.str_'>\n",
      "<class 'numpy.str_'>\n",
      "<class 'numpy.str_'>\n",
      "<class 'numpy.str_'>\n"
     ]
    }
   ],
   "source": [
    "import numpy as np\n",
    "\n",
    "list_ = ['1','2','3','4','5'] #class 'list'\n",
    "print(\" fro list_ \")\n",
    "array_list = np.array(object = list_) #'numpy.ndarray'\n",
    "for i in  list_:\n",
    "    print(type(i))\n",
    "    \n",
    "print(\" fro array_list \")\n",
    "for i in array_list:\n",
    "    print(type(i))\n",
    "\n"
   ]
  },
  {
   "cell_type": "raw",
   "id": "d2df9420-8b76-4ea8-9386-313d714bc917",
   "metadata": {},
   "source": [
    "Q3. Considering the following changes in the variable, array_list:\n",
    "\n",
    "array_list = np.array(object = list_, dtype = int)\n",
    "\n",
    "Will there be any difference in the data type of the elements present in both the variables, list_ and\n",
    "arra_list? If so then print the data types of each and every element present in both the variables, list_\n",
    "and arra_list."
   ]
  },
  {
   "cell_type": "markdown",
   "id": "28a00110-8700-4798-bfbf-7f6d540317ae",
   "metadata": {},
   "source": [
    "Answer->\n",
    "\n",
    "Yes, there will be a difference in the data type of the elements present in list_ and array_list after applying the given changes. The np.array() function with the dtype=int argument will convert each string element in list_ to an integer data type and create a new NumPy array array_list with the same elements but with integer data type.\n",
    "\n",
    "The dtype argument in the np.array() function specifies the data type of the array elements. When we set dtype=int, it means that all elements in the array will be cast to the integer data type. This is a common technique used to convert arrays with mixed data types into arrays with a uniform data type."
   ]
  },
  {
   "cell_type": "code",
   "execution_count": 13,
   "id": "68bfb9a5-2bf0-472e-8d28-405fea443ba4",
   "metadata": {},
   "outputs": [
    {
     "name": "stdout",
     "output_type": "stream",
     "text": [
      "<class 'str'>\n",
      "<class 'str'>\n",
      "<class 'str'>\n",
      "<class 'str'>\n",
      "<class 'str'>\n",
      " fro array_list \n",
      "<class 'numpy.int64'>\n",
      "<class 'numpy.int64'>\n",
      "<class 'numpy.int64'>\n",
      "<class 'numpy.int64'>\n",
      "<class 'numpy.int64'>\n"
     ]
    }
   ],
   "source": [
    "import numpy as np\n",
    "\n",
    "list_ = ['1','2','3','4','5']\n",
    "\n",
    "array_list = np.array(object = list_, dtype = int)\n",
    "for i in  list_:\n",
    "    print(type(i))\n",
    "    \n",
    "print(\" fro array_list \")\n",
    "for i in array_list:\n",
    "    print(type(i))\n"
   ]
  },
  {
   "cell_type": "code",
   "execution_count": 14,
   "id": "5218b46f-355d-43ec-80e9-5bea242fc3c3",
   "metadata": {},
   "outputs": [],
   "source": [
    "import numpy as np\n",
    "\n",
    "num_list = [ [ 1 , 2 , 3 ] , [ 4 , 5 , 6 ] ]\n",
    "\n",
    "num_array = np.array(object = num_list)"
   ]
  },
  {
   "cell_type": "raw",
   "id": "17c742bd-5e4e-4bf0-a3bc-f9537c8570fd",
   "metadata": {},
   "source": [
    "Q4. Write a code to find the following characteristics of variable, num_array:\n",
    "\n",
    "(i) shape\n",
    "\n",
    "(ii) size\n",
    "\n"
   ]
  },
  {
   "cell_type": "code",
   "execution_count": 19,
   "id": "6f27cc9f-3cc0-4a5a-baa5-67e37347974d",
   "metadata": {},
   "outputs": [
    {
     "name": "stdout",
     "output_type": "stream",
     "text": [
      " <i> for shape function (2, 3)\n",
      " <ii> for size function 6\n"
     ]
    }
   ],
   "source": [
    "import numpy as np\n",
    "\n",
    "num_list = [ [ 1 , 2 , 3 ] , [ 4 , 5 , 6 ] ]\n",
    "\n",
    "num_array = np.array(object = num_list)\n",
    "\n",
    "print(f\" <i> for shape function\",num_array.shape) # shape (rows , column ) = (2,3)\n",
    "print(f\" <ii> for size function\",num_array.size)  # size = rows*column = 6"
   ]
  },
  {
   "cell_type": "raw",
   "id": "514577aa-7712-469f-8a52-01cd6b4bd36d",
   "metadata": {},
   "source": [
    "Q6. Create an identity matrix of shape (5,5) using numpy functions?\n",
    "\n",
    "[Hint: An identity matrix is a matrix containing 1 diagonally and other elements will be 0.]"
   ]
  },
  {
   "cell_type": "code",
   "execution_count": 23,
   "id": "b66f8722-932e-4aa4-88d8-67e98b672369",
   "metadata": {},
   "outputs": [
    {
     "name": "stdout",
     "output_type": "stream",
     "text": [
      "[[1. 0. 0. 0. 0.]\n",
      " [0. 1. 0. 0. 0.]\n",
      " [0. 0. 1. 0. 0.]\n",
      " [0. 0. 0. 1. 0.]\n",
      " [0. 0. 0. 0. 1.]]\n"
     ]
    }
   ],
   "source": [
    "import numpy as np \n",
    "identity_matrix = np.eye(5,5)\n",
    "print(identity_matrix)"
   ]
  },
  {
   "cell_type": "code",
   "execution_count": 24,
   "id": "f0fcf1a5-982b-45df-8a42-a8aab1914d6d",
   "metadata": {},
   "outputs": [
    {
     "name": "stdout",
     "output_type": "stream",
     "text": [
      "[[1. 0. 0. 0. 0.]\n",
      " [0. 1. 0. 0. 0.]\n",
      " [0. 0. 1. 0. 0.]\n",
      " [0. 0. 0. 1. 0.]\n",
      " [0. 0. 0. 0. 1.]]\n"
     ]
    }
   ],
   "source": [
    "# for same \n",
    "\n",
    "import numpy as np\n",
    "\n",
    "identity_matrix = np.identity(5)\n",
    "\n",
    "print(identity_matrix)\n"
   ]
  },
  {
   "cell_type": "code",
   "execution_count": null,
   "id": "0e30afef-beb7-4ba7-af99-450fe4b0e29d",
   "metadata": {},
   "outputs": [],
   "source": []
  }
 ],
 "metadata": {
  "kernelspec": {
   "display_name": "Python 3 (ipykernel)",
   "language": "python",
   "name": "python3"
  },
  "language_info": {
   "codemirror_mode": {
    "name": "ipython",
    "version": 3
   },
   "file_extension": ".py",
   "mimetype": "text/x-python",
   "name": "python",
   "nbconvert_exporter": "python",
   "pygments_lexer": "ipython3",
   "version": "3.10.8"
  }
 },
 "nbformat": 4,
 "nbformat_minor": 5
}
