{
 "cells": [
  {
   "cell_type": "code",
   "execution_count": 1,
   "id": "f936fb5f-3ec8-44fa-8e01-476f535c9229",
   "metadata": {},
   "outputs": [
    {
     "name": "stdout",
     "output_type": "stream",
     "text": [
      "1     4\n",
      "2     8\n",
      "3    15\n",
      "4    16\n",
      "5    23\n",
      "6    42\n",
      "dtype: int64\n"
     ]
    }
   ],
   "source": [
    "#Q1. Create a Pandas Series that contains the following data: 4, 8, 15, 16, 23, and 42. Then, print the series.\n",
    "\n",
    "import pandas as pd\n",
    "list1 = [4,8,15,16,23,42]\n",
    "myseries = pd.Series(list1,index = range(1 , len(list1)+1))\n",
    "print(myseries)"
   ]
  },
  {
   "cell_type": "code",
   "execution_count": 2,
   "id": "4dca6f5e-253a-430c-a098-69ad8c86dfaa",
   "metadata": {},
   "outputs": [
    {
     "name": "stdout",
     "output_type": "stream",
     "text": [
      "0     1\n",
      "1     2\n",
      "2     3\n",
      "3     4\n",
      "4     5\n",
      "5     6\n",
      "6     7\n",
      "7     8\n",
      "8     9\n",
      "9    10\n",
      "dtype: int64\n"
     ]
    }
   ],
   "source": [
    "# Q2. Create a variable of list type containing 10 elements in it, and apply pandas.Series function on the\n",
    "# variable print it.\n",
    "import pandas as pd \n",
    "list2 = [1,2,3,4,5,6,7,8,9,10]\n",
    "myseries2 = pd.Series(list2)\n",
    "print(myseries2)\n",
    "\n"
   ]
  },
  {
   "cell_type": "code",
   "execution_count": 3,
   "id": "9aa270f0-fd3e-4d65-a338-119ffaa1cffe",
   "metadata": {},
   "outputs": [
    {
     "name": "stdout",
     "output_type": "stream",
     "text": [
      "     Name  Age  Gender\n",
      "0   Alice   25  Female\n",
      "1     Bob   30    Male\n",
      "2  Claire   27  Female\n"
     ]
    }
   ],
   "source": [
    "# 3. Create a Pandas DataFrame that contains the following data:\n",
    "import pandas as pd \n",
    "dic = {'Name':['Alice','Bob','Claire'],'Age': [25,30,27],'Gender' : ['Female','Male','Female']}\n",
    "dataShow = pd.DataFrame(dic,index=None)\n",
    "print(dataShow)"
   ]
  },
  {
   "cell_type": "code",
   "execution_count": 6,
   "id": "49e01f48-8200-4b84-b707-83f7ab304f82",
   "metadata": {},
   "outputs": [
    {
     "name": "stdout",
     "output_type": "stream",
     "text": [
      "          0       1      2     3       4     5    6    7\n",
      "0         a       b      c     d       e     f    g    h\n",
      "1     545.0   664.0  323.0  64.0  2323.0  23.0  NaN  NaN\n",
      "2  980943.0  8539.0  434.0   NaN     NaN   NaN  NaN  NaN\n"
     ]
    }
   ],
   "source": [
    "#Q7. Create a DataFrame using multiple Series. Explain with an example.\n",
    "import pandas as pd \n",
    "l=['a','b','c','d','e','f','g','h']\n",
    "l1 =[545,664,323,64,2323,23]\n",
    "l2 = [980943,8539,434]\n",
    "\n",
    "myseries3 = pd.Series(l)\n",
    "myseries4 = pd.Series(l1)\n",
    "myseries5 = pd.Series(l2)\n",
    "showData = pd.DataFrame([myseries3,myseries4,myseries5])\n",
    "print(showData)"
   ]
  },
  {
   "cell_type": "code",
   "execution_count": 17,
   "id": "3ba61df8-5804-4063-8b45-678e81cef1ee",
   "metadata": {},
   "outputs": [
    {
     "name": "stdout",
     "output_type": "stream",
     "text": [
      "EXAMPLE OF DATAFRAME\n",
      "     Name  Age  Gender\n",
      "0   Alice   25  Female\n",
      "1     Bob   30    Male\n",
      "2  Claire   27  Female\n",
      "EXAMPLE OF SERIES\n",
      "0     mango\n",
      "1     Apple\n",
      "2    orange\n",
      "dtype: object\n"
     ]
    }
   ],
   "source": [
    "# Q4. What is ‘DataFrame’ in pandas and how is it different from pandas.series? Explain with an example.\n",
    "\n",
    "# Answer->\n",
    "\n",
    "# In pandas, a DataFrame is a two-dimensional labeled data structure with columns of potentially different data types, \n",
    "# similar to a spreadsheet or SQL table. It is essentially a collection of Series, where each Series represents a column of data\n",
    "\n",
    "# A pandas Series, on the other hand, is a one-dimensional labeled array that can hold data of any type.\n",
    "\n",
    "# The key difference between a DataFrame and a Series is that a DataFrame can hold multiple columns of data, \n",
    "# while a Series can hold only one column of data.\n",
    "print(\"EXAMPLE OF DATAFRAME\")\n",
    "import pandas as pd \n",
    "dic = {'Name':['Alice','Bob','Claire'],'Age': [25,30,27],'Gender' : ['Female','Male','Female']}\n",
    "dataShow = pd.DataFrame(dic,index=None)\n",
    "print(dataShow)\n",
    "print(\"EXAMPLE OF SERIES\")\n",
    "fruits = pd.Series(['mango', 'Apple', 'orange'])\n",
    "print(fruits)"
   ]
  },
  {
   "cell_type": "code",
   "execution_count": null,
   "id": "f9134f02-6b8e-4ef0-9c55-ed80a97305d4",
   "metadata": {},
   "outputs": [],
   "source": [
    "# Q5. What are some common functions you can use to manipulate data in a Pandas DataFrame? \n",
    "#     Can you give an example of when you might use one of these functions?\n",
    "\n",
    "# Answer->\n",
    "\n",
    "# head() and tail(): These functions are used to view the first or last n rows of the DataFrame, respectively. \n",
    "#                    They are useful for quickly previewing the structure of the DataFrame.\n",
    "    \n",
    "# groupby(): This function is used to group the data in the DataFrame based on one or more columns and apply a function to each group. \n",
    "#            It is useful for analyzing data by categories.\n",
    "\n",
    "# sort_values(): This function is used to sort the DataFrame by one or more columns. It is useful for reordering the data and identifying patterns.\n",
    "\n",
    "# drop(): This function is used to remove one or more columns or rows from the DataFrame. It is useful for cleaning the data or removing unnecessary information.\n",
    "\n",
    "import seaborn as sns\n",
    "import pandas as pd \n",
    "tips_data = sns.load_dataset('tips')\n",
    "\n",
    "# head() and tail():\n",
    "\n",
    "print(tips_data.head())\n",
    "print(tips_data.tail())\n",
    "\n",
    "# groupby():\n",
    "\n",
    "print(\" groupby():  \")\n",
    "grouped_data = tips_data.groupby(['sex', 'total_bill'])['tip'].mean()\n",
    "print(grouped_data)\n",
    "\n",
    "# sort_values(): \n",
    "\n",
    "print(\" sort_values:  \")\n",
    "sorted_df = tips_data.sort_values('total_bill', ascending=False)\n",
    "print(sorted_df)\n",
    "\n",
    "# drop():\n",
    "\n",
    "print(\" drop\")\n",
    "drop_example = tips_data.drop(1)\n",
    "print(drop_example)"
   ]
  },
  {
   "cell_type": "code",
   "execution_count": 16,
   "id": "d3345a38-0805-4d7a-a00d-7b625d932831",
   "metadata": {},
   "outputs": [
    {
     "name": "stdout",
     "output_type": "stream",
     "text": [
      "     Name  Age  Gender\n",
      "0   Alice   25  Female\n",
      "1     Bob   30    Male\n",
      "2  Claire   27  Female\n",
      "     Name  Age  Gender\n",
      "0   Alice   25  Female\n",
      "1     Bob   30    Male\n",
      "2  Claire   40  Female\n",
      "this the example of series\n",
      "0     mango\n",
      "1     Apple\n",
      "2    orange\n",
      "dtype: object\n",
      "0     mango\n",
      "1    orange\n",
      "2    orange\n",
      "dtype: object\n"
     ]
    }
   ],
   "source": [
    "# Q->which are the following mutable in nature series , dataframe , Panel \n",
    "# Answer->\n",
    "# In the pandas library, both Series and DataFrame are mutable, meaning that their values can be modified after they are created\n",
    "\n",
    "# The Panel class in Pandas is mutable, meaning that you can modify its contents by adding, removing, or modifying elements within it.\n",
    "# However, as mentioned earlier, the Panel class has been deprecated since version 0.25.0 of Pandas and is no longer recommended to be used.\n",
    "import pandas as pd\n",
    "dic = {'Name':['Alice','Bob','Claire'],'Age': [25,30,27],'Gender' : ['Female','Male','Female']}\n",
    "\n",
    "# EXAMPLE-> for DataFrame\n",
    "dataShow = pd.DataFrame(dic,index=None)\n",
    "print(dataShow)# without modify\n",
    "dataShow.loc[2, 'Age'] = 40\n",
    "print(dataShow)# wirth modify\n",
    "\n",
    "#Example-> for Series\n",
    "print(\"this the example of series\")\n",
    "fruits = pd.Series(['mango', 'Apple', 'orange'])\n",
    "print(fruits)\n",
    "fruits[1] = 'orange'\n",
    "print(fruits)\n"
   ]
  },
  {
   "cell_type": "code",
   "execution_count": 15,
   "id": "40d03423-36a3-4077-b960-488df589c90e",
   "metadata": {},
   "outputs": [
    {
     "name": "stdout",
     "output_type": "stream",
     "text": [
      "   total_bill   tip     sex smoker  day    time  size\n",
      "0       16.99  1.01  Female     No  Sun  Dinner     2\n",
      "1       10.34  1.66    Male     No  Sun  Dinner     3\n",
      "2       21.01  3.50    Male     No  Sun  Dinner     3\n",
      "3       23.68  3.31    Male     No  Sun  Dinner     2\n",
      "4       24.59  3.61  Female     No  Sun  Dinner     4\n",
      "     total_bill   tip     sex smoker   day    time  size\n",
      "239       29.03  5.92    Male     No   Sat  Dinner     3\n",
      "240       27.18  2.00  Female    Yes   Sat  Dinner     2\n",
      "241       22.67  2.00    Male    Yes   Sat  Dinner     2\n",
      "242       17.82  1.75    Male     No   Sat  Dinner     2\n",
      "243       18.78  3.00  Female     No  Thur  Dinner     2\n",
      " groupby():  \n",
      "sex     total_bill\n",
      "Male    3.07           NaN\n",
      "        5.75           NaN\n",
      "        7.25          5.15\n",
      "        7.51          2.00\n",
      "        7.56          1.44\n",
      "                      ... \n",
      "Female  45.35          NaN\n",
      "        48.17          NaN\n",
      "        48.27          NaN\n",
      "        48.33          NaN\n",
      "        50.81          NaN\n",
      "Name: tip, Length: 458, dtype: float64\n",
      " sort_values:  \n",
      "     total_bill    tip     sex smoker   day    time  size\n",
      "170       50.81  10.00    Male    Yes   Sat  Dinner     3\n",
      "212       48.33   9.00    Male     No   Sat  Dinner     4\n",
      "59        48.27   6.73    Male     No   Sat  Dinner     4\n",
      "156       48.17   5.00    Male     No   Sun  Dinner     6\n",
      "182       45.35   3.50    Male    Yes   Sun  Dinner     3\n",
      "..          ...    ...     ...    ...   ...     ...   ...\n",
      "149        7.51   2.00    Male     No  Thur   Lunch     2\n",
      "111        7.25   1.00  Female     No   Sat  Dinner     1\n",
      "172        7.25   5.15    Male    Yes   Sun  Dinner     2\n",
      "92         5.75   1.00  Female    Yes   Fri  Dinner     2\n",
      "67         3.07   1.00  Female    Yes   Sat  Dinner     1\n",
      "\n",
      "[244 rows x 7 columns]\n",
      " drop\n",
      "     total_bill   tip     sex smoker   day    time  size\n",
      "0         16.99  1.01  Female     No   Sun  Dinner     2\n",
      "2         21.01  3.50    Male     No   Sun  Dinner     3\n",
      "3         23.68  3.31    Male     No   Sun  Dinner     2\n",
      "4         24.59  3.61  Female     No   Sun  Dinner     4\n",
      "5         25.29  4.71    Male     No   Sun  Dinner     4\n",
      "..          ...   ...     ...    ...   ...     ...   ...\n",
      "239       29.03  5.92    Male     No   Sat  Dinner     3\n",
      "240       27.18  2.00  Female    Yes   Sat  Dinner     2\n",
      "241       22.67  2.00    Male    Yes   Sat  Dinner     2\n",
      "242       17.82  1.75    Male     No   Sat  Dinner     2\n",
      "243       18.78  3.00  Female     No  Thur  Dinner     2\n",
      "\n",
      "[243 rows x 7 columns]\n"
     ]
    }
   ],
   "source": [
    "# Q5. What are some common functions you can use to manipulate data in a Pandas DataFrame? \n",
    "#     Can you give an example of when you might use one of these functions?\n",
    "\n",
    "# Answer->\n",
    "\n",
    "# head() and tail(): These functions are used to view the first or last n rows of the DataFrame, respectively. \n",
    "#                    They are useful for quickly previewing the structure of the DataFrame.\n",
    "    \n",
    "# groupby(): This function is used to group the data in the DataFrame based on one or more columns and apply a function to each group. \n",
    "#            It is useful for analyzing data by categories.\n",
    "\n",
    "# sort_values(): This function is used to sort the DataFrame by one or more columns. It is useful for reordering the data and identifying patterns.\n",
    "\n",
    "# drop(): This function is used to remove one or more columns or rows from the DataFrame. It is useful for cleaning the data or removing unnecessary information.\n",
    "\n",
    "import seaborn as sns\n",
    "import pandas as pd \n",
    "tips_data = sns.load_dataset('tips')\n",
    "\n",
    "# head() and tail():\n",
    "\n",
    "print(tips_data.head())\n",
    "print(tips_data.tail())\n",
    "\n",
    "# groupby():\n",
    "\n",
    "print(\" groupby():  \")\n",
    "grouped_data = tips_data.groupby(['sex', 'total_bill'])['tip'].mean()\n",
    "print(grouped_data)\n",
    "\n",
    "# sort_values(): \n",
    "\n",
    "print(\" sort_values:  \")\n",
    "sorted_df = tips_data.sort_values('total_bill', ascending=False)\n",
    "print(sorted_df)\n",
    "\n",
    "# drop():\n",
    "\n",
    "print(\" drop\")\n",
    "drop_example = tips_data.drop(1)\n",
    "print(drop_example)"
   ]
  },
  {
   "cell_type": "code",
   "execution_count": null,
   "id": "734b2dee-44c8-4492-b71e-395960f4211e",
   "metadata": {},
   "outputs": [],
   "source": []
  }
 ],
 "metadata": {
  "kernelspec": {
   "display_name": "Python 3 (ipykernel)",
   "language": "python",
   "name": "python3"
  },
  "language_info": {
   "codemirror_mode": {
    "name": "ipython",
    "version": 3
   },
   "file_extension": ".py",
   "mimetype": "text/x-python",
   "name": "python",
   "nbconvert_exporter": "python",
   "pygments_lexer": "ipython3",
   "version": "3.10.8"
  }
 },
 "nbformat": 4,
 "nbformat_minor": 5
}
